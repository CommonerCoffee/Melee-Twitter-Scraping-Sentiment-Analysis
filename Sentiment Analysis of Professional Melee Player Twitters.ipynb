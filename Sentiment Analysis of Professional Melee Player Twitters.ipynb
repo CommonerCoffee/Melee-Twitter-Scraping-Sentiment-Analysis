{
 "cells": [
  {
   "cell_type": "code",
   "execution_count": 1,
   "metadata": {},
   "outputs": [],
   "source": [
    "import os\n",
    "import snscrape.modules.twitter as sntwitter\n",
    "import pandas as pd"
   ]
  },
  {
   "cell_type": "code",
   "execution_count": 2,
   "metadata": {},
   "outputs": [],
   "source": [
    "#Creating function to return dataframe with tweets\n",
    "#Filters replies and links\n",
    "def get_tweets(username,n=1000):\n",
    "    output = []\n",
    "    for i,tweet in enumerate(sntwitter.TwitterSearchScraper('from:'+username+' -filter:replies -filter:links').get_items()):\n",
    "        if i>n:\n",
    "            break\n",
    "        output.append([tweet.date, tweet.id, tweet.content, tweet.user.username])\n",
    "    return pd.DataFrame(output, columns=['Datetime', 'Tweet Id', 'Text', 'Username'])"
   ]
  },
  {
   "cell_type": "code",
   "execution_count": 21,
   "metadata": {},
   "outputs": [
    {
     "data": {
      "text/html": [
       "<div>\n",
       "<style scoped>\n",
       "    .dataframe tbody tr th:only-of-type {\n",
       "        vertical-align: middle;\n",
       "    }\n",
       "\n",
       "    .dataframe tbody tr th {\n",
       "        vertical-align: top;\n",
       "    }\n",
       "\n",
       "    .dataframe thead th {\n",
       "        text-align: right;\n",
       "    }\n",
       "</style>\n",
       "<table border=\"1\" class=\"dataframe\">\n",
       "  <thead>\n",
       "    <tr style=\"text-align: right;\">\n",
       "      <th></th>\n",
       "      <th>Datetime</th>\n",
       "      <th>Tweet Id</th>\n",
       "      <th>Text</th>\n",
       "      <th>Username</th>\n",
       "    </tr>\n",
       "  </thead>\n",
       "  <tbody>\n",
       "    <tr>\n",
       "      <th>0</th>\n",
       "      <td>2021-02-17 23:06:55+00:00</td>\n",
       "      <td>1362176730539163651</td>\n",
       "      <td>Regardless of whether or not you were happy wi...</td>\n",
       "      <td>Wizzrobe</td>\n",
       "    </tr>\n",
       "    <tr>\n",
       "      <th>1</th>\n",
       "      <td>2020-12-21 03:03:18+00:00</td>\n",
       "      <td>1340855335788179456</td>\n",
       "      <td>#LongLiveMelee</td>\n",
       "      <td>Wizzrobe</td>\n",
       "    </tr>\n",
       "    <tr>\n",
       "      <th>2</th>\n",
       "      <td>2020-11-23 04:21:03+00:00</td>\n",
       "      <td>1330728039517401090</td>\n",
       "      <td>Got 4th at #SmashSummit 10. I should have done...</td>\n",
       "      <td>Wizzrobe</td>\n",
       "    </tr>\n",
       "    <tr>\n",
       "      <th>3</th>\n",
       "      <td>2020-11-01 04:15:23+00:00</td>\n",
       "      <td>1322754082474438657</td>\n",
       "      <td>Made it back into division 1 for the last week...</td>\n",
       "      <td>Wizzrobe</td>\n",
       "    </tr>\n",
       "    <tr>\n",
       "      <th>4</th>\n",
       "      <td>2020-10-16 05:16:59+00:00</td>\n",
       "      <td>1316971378013331457</td>\n",
       "      <td>Can someone link me Steve 0 to death combos?</td>\n",
       "      <td>Wizzrobe</td>\n",
       "    </tr>\n",
       "    <tr>\n",
       "      <th>5</th>\n",
       "      <td>2020-10-01 14:14:09+00:00</td>\n",
       "      <td>1311670742644330498</td>\n",
       "      <td>I knew there was a chance of Minecraft Steve b...</td>\n",
       "      <td>Wizzrobe</td>\n",
       "    </tr>\n",
       "    <tr>\n",
       "      <th>6</th>\n",
       "      <td>2020-09-03 17:36:11+00:00</td>\n",
       "      <td>1301574724548427776</td>\n",
       "      <td>Ok I'm getting Super Mario 3d all-stars. What ...</td>\n",
       "      <td>Wizzrobe</td>\n",
       "    </tr>\n",
       "    <tr>\n",
       "      <th>7</th>\n",
       "      <td>2020-08-08 21:00:23+00:00</td>\n",
       "      <td>1292204030073221122</td>\n",
       "      <td>I love video games</td>\n",
       "      <td>Wizzrobe</td>\n",
       "    </tr>\n",
       "    <tr>\n",
       "      <th>8</th>\n",
       "      <td>2020-07-26 00:17:47+00:00</td>\n",
       "      <td>1287180276850982912</td>\n",
       "      <td>Made top 8 at #LACS 2! Beat a lot of tough opp...</td>\n",
       "      <td>Wizzrobe</td>\n",
       "    </tr>\n",
       "    <tr>\n",
       "      <th>9</th>\n",
       "      <td>2020-07-06 00:40:41+00:00</td>\n",
       "      <td>1279938285004038144</td>\n",
       "      <td>I haven't been feeling well lately, so I've be...</td>\n",
       "      <td>Wizzrobe</td>\n",
       "    </tr>\n",
       "    <tr>\n",
       "      <th>10</th>\n",
       "      <td>2020-06-30 02:34:13+00:00</td>\n",
       "      <td>1277792527698059265</td>\n",
       "      <td>Min Min's Down smash seems OD...</td>\n",
       "      <td>Wizzrobe</td>\n",
       "    </tr>\n",
       "  </tbody>\n",
       "</table>\n",
       "</div>"
      ],
      "text/plain": [
       "                    Datetime             Tweet Id  \\\n",
       "0  2021-02-17 23:06:55+00:00  1362176730539163651   \n",
       "1  2020-12-21 03:03:18+00:00  1340855335788179456   \n",
       "2  2020-11-23 04:21:03+00:00  1330728039517401090   \n",
       "3  2020-11-01 04:15:23+00:00  1322754082474438657   \n",
       "4  2020-10-16 05:16:59+00:00  1316971378013331457   \n",
       "5  2020-10-01 14:14:09+00:00  1311670742644330498   \n",
       "6  2020-09-03 17:36:11+00:00  1301574724548427776   \n",
       "7  2020-08-08 21:00:23+00:00  1292204030073221122   \n",
       "8  2020-07-26 00:17:47+00:00  1287180276850982912   \n",
       "9  2020-07-06 00:40:41+00:00  1279938285004038144   \n",
       "10 2020-06-30 02:34:13+00:00  1277792527698059265   \n",
       "\n",
       "                                                 Text  Username  \n",
       "0   Regardless of whether or not you were happy wi...  Wizzrobe  \n",
       "1                                      #LongLiveMelee  Wizzrobe  \n",
       "2   Got 4th at #SmashSummit 10. I should have done...  Wizzrobe  \n",
       "3   Made it back into division 1 for the last week...  Wizzrobe  \n",
       "4        Can someone link me Steve 0 to death combos?  Wizzrobe  \n",
       "5   I knew there was a chance of Minecraft Steve b...  Wizzrobe  \n",
       "6   Ok I'm getting Super Mario 3d all-stars. What ...  Wizzrobe  \n",
       "7                                  I love video games  Wizzrobe  \n",
       "8   Made top 8 at #LACS 2! Beat a lot of tough opp...  Wizzrobe  \n",
       "9   I haven't been feeling well lately, so I've be...  Wizzrobe  \n",
       "10                   Min Min's Down smash seems OD...  Wizzrobe  "
      ]
     },
     "execution_count": 21,
     "metadata": {},
     "output_type": "execute_result"
    }
   ],
   "source": [
    "#Testing\n",
    "get_tweets('wizzrobe',n=10)"
   ]
  },
  {
   "cell_type": "code",
   "execution_count": 4,
   "metadata": {},
   "outputs": [],
   "source": [
    "#Importing spreadsheet of twitter handles to loop through\n",
    "Twitters = pd.read_csv (r'C:\\Users\\Raymond Luu\\Desktop\\Liang\\Melee-Twitter-Sentiment-Analysis\\Melee Twitters.csv')"
   ]
  },
  {
   "cell_type": "code",
   "execution_count": 9,
   "metadata": {},
   "outputs": [
    {
     "name": "stdout",
     "output_type": "stream",
     "text": [
      "showing info https://raw.githubusercontent.com/nltk/nltk_data/gh-pages/index.xml\n"
     ]
    },
    {
     "data": {
      "text/plain": [
       "True"
      ]
     },
     "execution_count": 9,
     "metadata": {},
     "output_type": "execute_result"
    }
   ],
   "source": [
    "import nltk\n",
    "nltk.download()"
   ]
  },
  {
   "cell_type": "code",
   "execution_count": 11,
   "metadata": {},
   "outputs": [],
   "source": [
    "from nltk.sentiment.vader import SentimentIntensityAnalyzer as SIA\n",
    "sid = SIA()"
   ]
  },
  {
   "cell_type": "code",
   "execution_count": 20,
   "metadata": {},
   "outputs": [
    {
     "data": {
      "text/plain": [
       "{'neg': 0.056, 'neu': 0.713, 'pos': 0.231, 'compound': 0.852}"
      ]
     },
     "execution_count": 20,
     "metadata": {},
     "output_type": "execute_result"
    }
   ],
   "source": [
    "#Scoring 1 tweet from Wizzrobe\n",
    "sid.polarity_scores(get_tweets('wizzrobe',n=20).Text[0])"
   ]
  }
 ],
 "metadata": {
  "kernelspec": {
   "display_name": "Python 3",
   "language": "python",
   "name": "python3"
  },
  "language_info": {
   "codemirror_mode": {
    "name": "ipython",
    "version": 3
   },
   "file_extension": ".py",
   "mimetype": "text/x-python",
   "name": "python",
   "nbconvert_exporter": "python",
   "pygments_lexer": "ipython3",
   "version": "3.8.5"
  }
 },
 "nbformat": 4,
 "nbformat_minor": 4
}
